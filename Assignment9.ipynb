{
 "cells": [
  {
   "cell_type": "markdown",
   "id": "7f76feca-e5df-4a1f-88c3-88e8c07736e5",
   "metadata": {},
   "source": [
    "Q1. Explain why we have to use the Exception class while creating a Custom Exception.\n",
    "\n",
    "Ans. When creating a custom exception, it's recommended to inherit from the built-in Exception class or one of its subclasses. Custom exceptions enhance the usablility of a class. By inheriting from the Exception class, your custom exception follows the same interface and conventions as built-in exceptions.  By inheriting from Exception, you ensure that your custom exception produces a traceback just like other exceptions, making debugging more efficient. The use of Exception as the base class clearly indicates that your custom class represents an exception. It enhances code readability and helps other developers recognize that your class is meant for error handling."
   ]
  },
  {
   "cell_type": "markdown",
   "id": "73fab62c-35d6-4a7c-9476-1e18a85abf78",
   "metadata": {},
   "source": [
    "Q2. Write a python program to print Python Exception Hierarchy.\n",
    "\n",
    "Ans. "
   ]
  },
  {
   "cell_type": "code",
   "execution_count": 2,
   "id": "45fa767f-b3bc-4135-a59b-44475bd0a685",
   "metadata": {},
   "outputs": [
    {
     "name": "stdout",
     "output_type": "stream",
     "text": [
      "Python Exception Hierarchy:\n",
      "BaseException\n",
      "object\n"
     ]
    }
   ],
   "source": [
    "# Get the Exception hierarchy using mro() method\n",
    "exception_hierarchy = BaseException.mro()\n",
    "\n",
    "# Iterate through the hierarchy and print the class names\n",
    "print(\"Python Exception Hierarchy:\")\n",
    "for exception_class in exception_hierarchy:\n",
    "    print(exception_class.__name__)\n"
   ]
  },
  {
   "cell_type": "markdown",
   "id": "de19314a-7bf1-4787-96fe-1363fca06c88",
   "metadata": {},
   "source": [
    "Q3. What errors are defined in the ArithmeticError class? Explain any two with an example.\n",
    "\n",
    "Ans.The ArithmeticError class in Python is the base class for exceptions that occur during arithmetic operations. It is a subclass of the more general Exception class. Two common errors defined within the ArithmeticError class are:\n",
    "\n",
    "1 ZeroDivisionError: This error occurs when you try to divide a number by zero. It is raised when a mathematical operation encounters division by zero."
   ]
  },
  {
   "cell_type": "code",
   "execution_count": 3,
   "id": "c7d26d67-7208-4101-8752-b635cc4a1f22",
   "metadata": {},
   "outputs": [
    {
     "name": "stdout",
     "output_type": "stream",
     "text": [
      "Error: division by zero\n"
     ]
    }
   ],
   "source": [
    "try:\n",
    "    result = 10 / 0  # Attempting to divide by zero\n",
    "except ZeroDivisionError as e:\n",
    "    print(\"Error:\", e)\n"
   ]
  },
  {
   "cell_type": "markdown",
   "id": "e4ba6733-7596-43b4-9586-e7cbb12752f6",
   "metadata": {},
   "source": [
    "2  OverflowError: This error occurs when a mathematical operation results in a value that is too large (or too small) to be represented within the available memory or data type."
   ]
  },
  {
   "cell_type": "code",
   "execution_count": 4,
   "id": "dec15701-60fe-41ee-a412-17644ee70ed4",
   "metadata": {},
   "outputs": [],
   "source": [
    "try:\n",
    "    result = 2 ** 10000  # Calculating 2 to the power of 10000\n",
    "except OverflowError as e:\n",
    "    print(\"Error:\", e)\n"
   ]
  },
  {
   "cell_type": "markdown",
   "id": "bda5d514-2cc2-4c20-af73-3d733f137f8c",
   "metadata": {},
   "source": [
    "Q4. Why LookupError class is used? Explain with an example KeyError and IndexError.\n",
    "\n",
    "Ans. The LookupError class in Python is used to represent errors that occur when trying to access elements or keys in a collection (such as a list or dictionary) that do not exist. It serves as the base class for exceptions related to lookup operations. Two common exceptions that inherit from LookupError are KeyError and IndexError.\n",
    "\n",
    "KeyError: This exception is raised when you try to access a dictionary key that does not exist."
   ]
  },
  {
   "cell_type": "code",
   "execution_count": 5,
   "id": "7214aa75-e8af-4798-a16b-ccbd55077c86",
   "metadata": {},
   "outputs": [
    {
     "name": "stdout",
     "output_type": "stream",
     "text": [
      "Error: 'address'\n"
     ]
    }
   ],
   "source": [
    "my_dict = {'name': 'Anju', 'age': 30}\n",
    "\n",
    "try:\n",
    "    value = my_dict['address']  # Attempting to access a non-existent key\n",
    "except KeyError as e:\n",
    "    print(\"Error:\", e)\n"
   ]
  },
  {
   "cell_type": "markdown",
   "id": "bbecc274-4dfc-4b64-8210-8a44cd9b08af",
   "metadata": {},
   "source": [
    "IndexError: This exception is raised when you try to access an index in a sequence (such as a list or tuple) that is out of bounds."
   ]
  },
  {
   "cell_type": "code",
   "execution_count": 6,
   "id": "dd0df22a-928c-4e0f-a350-ac369c17e43f",
   "metadata": {},
   "outputs": [
    {
     "name": "stdout",
     "output_type": "stream",
     "text": [
      "Error: list index out of range\n"
     ]
    }
   ],
   "source": [
    "my_list = [1, 2, 3]\n",
    "\n",
    "try:\n",
    "    value = my_list[3]  # Attempting to access an index that doesn't exist\n",
    "except IndexError as e:\n",
    "    print(\"Error:\", e)\n"
   ]
  },
  {
   "cell_type": "markdown",
   "id": "0a86ce17-0afa-463b-8146-08b46ea31eaf",
   "metadata": {},
   "source": [
    "Q5. Explain ImportError. What is ModuleNotFoundError?\n",
    "\n",
    "Ans. ImportError:\n",
    "\n",
    "ImportError is a base class for exceptions raised when there is a problem with importing a module.\n",
    "It can occur for various reasons, such as when a required module or package is missing, when the module name is misspelled, or when there are issues with the module's content.\n",
    "You can catch ImportError to handle import-related issues in your code.\n",
    "\n",
    "ModuleNotFoundError:\n",
    "\n",
    "ModuleNotFoundError is a subclass of ImportError.\n",
    "It specifically indicates that the requested module could not be found.\n",
    "This exception provides a more descriptive error message, making it easier to identify missing modules."
   ]
  },
  {
   "cell_type": "markdown",
   "id": "af231667-85f4-4d22-a991-1692a1ba04f5",
   "metadata": {},
   "source": [
    "Q6. List down some best practices for exception handling in python.\n",
    "\n",
    "Ans. use always a specific exeption"
   ]
  },
  {
   "cell_type": "code",
   "execution_count": 7,
   "id": "da3bc0c7-bda1-4597-a0e4-3f96d917312a",
   "metadata": {},
   "outputs": [
    {
     "name": "stdout",
     "output_type": "stream",
     "text": [
      "division by zero\n"
     ]
    }
   ],
   "source": [
    "try:\n",
    "    10/0\n",
    "except ZeroDivisionError as e:\n",
    "    print(e)"
   ]
  },
  {
   "cell_type": "code",
   "execution_count": 8,
   "id": "2811e47c-0978-4832-a818-60d8a5c3a515",
   "metadata": {},
   "outputs": [
    {
     "name": "stdout",
     "output_type": "stream",
     "text": [
      "I am trying to handle a zerodivision error: division by zero\n"
     ]
    }
   ],
   "source": [
    "#print always a proper message\n",
    "\n",
    "try:\n",
    "    10/0\n",
    "except ZeroDivisionError as e:\n",
    "    print(\"I am trying to handle a zerodivision error:\",e)"
   ]
  },
  {
   "cell_type": "code",
   "execution_count": 10,
   "id": "03aad10a-c8b9-4874-9136-f3281b6bbaff",
   "metadata": {},
   "outputs": [],
   "source": [
    "# always try to log your error\n",
    "import logging\n",
    "logging.basicConfig(filename = \"error.log\" ,level = logging.ERROR )\n",
    "try:\n",
    "    10/0\n",
    "except ZeroDivisionError as e:\n",
    "    logging.error(\"I am trying to handle a zerodivision error:\".format(e))"
   ]
  },
  {
   "cell_type": "code",
   "execution_count": 11,
   "id": "c62b74e0-e0a5-4da6-a596-5fe400daadb4",
   "metadata": {},
   "outputs": [],
   "source": [
    "#always avoid to write a multiple exceptio handling\n",
    "try:\n",
    "    10/0\n",
    "    \n",
    "except FileNotFoundError as e:\n",
    "    logging.error(\"i am handling file not found {}\".format(e))\n",
    "except AttributeError as e:\n",
    "    logging.error(\"i am handling attributeerror {}\".format(e))\n",
    "except ZeroDivisionError as e:\n",
    "    logging.error(\"I am trying to handle a zerodivision error:\".format(e))"
   ]
  },
  {
   "cell_type": "code",
   "execution_count": 12,
   "id": "298cb25c-10ee-44ba-94f2-b7712b5765e5",
   "metadata": {},
   "outputs": [],
   "source": [
    "#Documenet all the error\n",
    "#cleanup all the resources\n",
    "\n",
    "try:\n",
    "    with open(\"test.txt\",'w') as f:\n",
    "        f.write(\"This is my data to file\")\n",
    "    \n",
    "except FileNotFoundError as e:\n",
    "    logging.error(\"i am handling file not found {}\".format(e))\n",
    "finally:\n",
    "    f.close()"
   ]
  },
  {
   "cell_type": "code",
   "execution_count": null,
   "id": "92d1184e-7730-43e3-ae9c-cf6f836a4377",
   "metadata": {},
   "outputs": [],
   "source": []
  }
 ],
 "metadata": {
  "kernelspec": {
   "display_name": "Python 3 (ipykernel)",
   "language": "python",
   "name": "python3"
  },
  "language_info": {
   "codemirror_mode": {
    "name": "ipython",
    "version": 3
   },
   "file_extension": ".py",
   "mimetype": "text/x-python",
   "name": "python",
   "nbconvert_exporter": "python",
   "pygments_lexer": "ipython3",
   "version": "3.10.8"
  }
 },
 "nbformat": 4,
 "nbformat_minor": 5
}
